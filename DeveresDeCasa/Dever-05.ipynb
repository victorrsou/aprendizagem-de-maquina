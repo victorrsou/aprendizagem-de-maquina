{
  "nbformat": 4,
  "nbformat_minor": 0,
  "metadata": {
    "colab": {
      "provenance": [],
      "authorship_tag": "ABX9TyMx/xVqkraTAM7yp8o+v0y5",
      "include_colab_link": true
    },
    "kernelspec": {
      "name": "python3",
      "display_name": "Python 3"
    },
    "language_info": {
      "name": "python"
    }
  },
  "cells": [
    {
      "cell_type": "markdown",
      "metadata": {
        "id": "view-in-github",
        "colab_type": "text"
      },
      "source": [
        "<a href=\"https://colab.research.google.com/github/victorrsou/aprendizagem-de-maquina/blob/main/DeveresDeCasa/Dever-05.ipynb\" target=\"_parent\"><img src=\"https://colab.research.google.com/assets/colab-badge.svg\" alt=\"Open In Colab\"/></a>"
      ]
    },
    {
      "cell_type": "code",
      "execution_count": 7,
      "metadata": {
        "colab": {
          "base_uri": "https://localhost:8080/"
        },
        "id": "P5t5JCCri95H",
        "outputId": "376b2dd7-beae-4332-d3f3-0233a951e926"
      },
      "outputs": [
        {
          "output_type": "stream",
          "name": "stdout",
          "text": [
            "[False False False  True]\n"
          ]
        }
      ],
      "source": [
        "import pandas as pd\n",
        "import numpy as np\n",
        "from sklearn.preprocessing import LabelEncoder\n",
        "from sklearn.ensemble import RandomForestClassifier\n",
        "\n",
        "arquivo = pd.read_csv('dever-05.csv')\n",
        "\n",
        "\n",
        "X = arquivo[[\"IMC\"]].values.tolist()\n",
        "\n",
        "y = arquivo[\"Obeso\"]\n",
        "\n",
        "clf = RandomForestClassifier(random_state=0)\n",
        "clf.fit(X, y)\n",
        "\n",
        "print(clf.predict([[10], [20], [30], [40]]))"
      ]
    }
  ]
}