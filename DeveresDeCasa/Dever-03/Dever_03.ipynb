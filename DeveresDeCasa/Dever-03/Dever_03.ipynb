{
  "nbformat": 4,
  "nbformat_minor": 0,
  "metadata": {
    "colab": {
      "provenance": [],
      "authorship_tag": "ABX9TyNBVhJOGS2gg6exVlnuuIzi",
      "include_colab_link": true
    },
    "kernelspec": {
      "name": "python3",
      "display_name": "Python 3"
    },
    "language_info": {
      "name": "python"
    }
  },
  "cells": [
    {
      "cell_type": "markdown",
      "metadata": {
        "id": "view-in-github",
        "colab_type": "text"
      },
      "source": [
        "<a href=\"https://colab.research.google.com/github/victorrsou/aprendizagem-de-maquina/blob/main/DeveresDeCasa/Dever-03/Dever_03.ipynb\" target=\"_parent\"><img src=\"https://colab.research.google.com/assets/colab-badge.svg\" alt=\"Open In Colab\"/></a>"
      ]
    },
    {
      "cell_type": "code",
      "execution_count": 1,
      "metadata": {
        "id": "E6EQrccjU2CH"
      },
      "outputs": [],
      "source": [
        "# prompt: 1. Por meio de código, crie um arquivo **dados.csv**\n",
        "# contendo:\n",
        "# Nome, Idade\n",
        "# Ana,25\n",
        "# Bruno,30\n",
        "# Carla,22\n",
        "# Daniel,28\n",
        "# Eduardo,35\n",
        "\n",
        "import csv\n",
        "\n",
        "data = [\n",
        "    ['Nome', 'Idade'],\n",
        "    ['Ana', '25'],\n",
        "    ['Bruno', '30'],\n",
        "    ['Carla', '22'],\n",
        "    ['Daniel', '28'],\n",
        "    ['Eduardo', '35']\n",
        "]\n",
        "\n",
        "with open('dados.csv', 'w', newline='') as csvfile:\n",
        "  writer = csv.writer(csvfile)\n",
        "  writer.writerows(data)\n"
      ]
    },
    {
      "cell_type": "code",
      "source": [
        "# prompt: 2. Ler o arquivo **dados.csv** e armazene os dados em uma\n",
        "# lista.\n",
        "# Peça ao usuário para digitar um nome.\n",
        "# Verifique se o nome digitado está na lista, exiba a idade\n",
        "# correspondente e se é a pessoa mais velha ou não da lista.\n",
        "# Caso o nome não esteja na lista, exiba uma mensagem\n",
        "# informando isso.\n",
        "# Exemplo de saída esperada:\n",
        "# Digite um nome: Carla\n",
        "# Carla tem 22 anos, não é a pessoa mais velha da lista.\n",
        "# ou\n",
        "# Digite um nome: João\n",
        "# Nome não encontrado.\n",
        "\n",
        "import csv\n",
        "\n",
        "def process_data():\n",
        "  try:\n",
        "    with open('dados.csv', 'r', newline='') as csvfile:\n",
        "      reader = csv.DictReader(csvfile)\n",
        "      name_age_dict = {}\n",
        "      for row in reader:\n",
        "        name_age_dict[row['Nome']] = int(row['Idade'])\n",
        "\n",
        "    name = input(\"Digite um nome: \")\n",
        "\n",
        "    if name in name_age_dict:\n",
        "        age = name_age_dict[name]\n",
        "        max_age = max(name_age_dict.values())\n",
        "        if age == max_age:\n",
        "          print(f\"{name} tem {age} anos, é a pessoa mais velha da lista.\")\n",
        "        else:\n",
        "          print(f\"{name} tem {age} anos, não é a pessoa mais velha da lista.\")\n",
        "\n",
        "    else:\n",
        "        print(\"Nome não encontrado.\")\n",
        "\n",
        "  except FileNotFoundError:\n",
        "    print(\"Arquivo 'dados.csv' não encontrado.\")\n",
        "  except Exception as e:\n",
        "    print(f\"Ocorreu um erro: {e}\")\n",
        "\n",
        "\n",
        "process_data()\n"
      ],
      "metadata": {
        "colab": {
          "base_uri": "https://localhost:8080/"
        },
        "id": "ZQXBybEBVLAb",
        "outputId": "83a02b24-78c0-4563-ef77-f3ec23a116c1"
      },
      "execution_count": 2,
      "outputs": [
        {
          "output_type": "stream",
          "name": "stdout",
          "text": [
            "Digite um nome: João\n",
            "Nome não encontrado.\n"
          ]
        }
      ]
    }
  ]
}