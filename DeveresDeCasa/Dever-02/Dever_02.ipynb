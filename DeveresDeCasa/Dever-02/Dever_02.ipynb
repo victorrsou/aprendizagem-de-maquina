{
  "nbformat": 4,
  "nbformat_minor": 0,
  "metadata": {
    "colab": {
      "provenance": [],
      "authorship_tag": "ABX9TyOfEsqVDiwzUlZyWyhO1NQc",
      "include_colab_link": true
    },
    "kernelspec": {
      "name": "python3",
      "display_name": "Python 3"
    },
    "language_info": {
      "name": "python"
    }
  },
  "cells": [
    {
      "cell_type": "markdown",
      "metadata": {
        "id": "view-in-github",
        "colab_type": "text"
      },
      "source": [
        "<a href=\"https://colab.research.google.com/github/victorrsou/aprendizagem-de-maquina/blob/main/DeveresDeCasa/Dever-02/Dever_02.ipynb\" target=\"_parent\"><img src=\"https://colab.research.google.com/assets/colab-badge.svg\" alt=\"Open In Colab\"/></a>"
      ]
    },
    {
      "cell_type": "code",
      "execution_count": 2,
      "metadata": {
        "id": "rVCNvMbiQMgx",
        "colab": {
          "base_uri": "https://localhost:8080/"
        },
        "outputId": "a3d57b7c-67c6-45a6-85cf-8aba2db9350f"
      },
      "outputs": [
        {
          "output_type": "stream",
          "name": "stdout",
          "text": [
            "Insira uma frase: Mue nome é oswallldoo\n",
            "Número total de caracteres: 21\n",
            "Número total de palavras: 4\n",
            "Maior palavra: oswallldoo\n"
          ]
        }
      ],
      "source": [
        "def solicitarFrase():\n",
        "  entrada = input(\"Insira uma frase: \");\n",
        "\n",
        "  if entrada == None:\n",
        "    entrada = input(\"Erro! Por favor, insira uma frase: \");\n",
        "  else:\n",
        "    entrada = str(entrada);\n",
        "\n",
        "    contadorCaracteres = len(entrada);\n",
        "    print(\"Número total de caracteres: %s\" % (contadorCaracteres));\n",
        "\n",
        "    contadorPalavras = entrada.split();\n",
        "    print(\"Número total de palavras: %s\" % (len(contadorPalavras)));\n",
        "\n",
        "    maiorPalavra = \"\";\n",
        "    for palavra in contadorPalavras:\n",
        "      if len(palavra) > len(maiorPalavra):\n",
        "        maiorPalavra = palavra;\n",
        "\n",
        "    print(\"Maior palavra: %s\" % (maiorPalavra));\n",
        "\n",
        "    fraseInvertida = entrada[::-1];\n",
        "    print(\"Frase invertida: %s\" % (fraseInvertida))\n",
        "\n",
        "    ordemInvertida = contadorPalavras[::-1];\n",
        "    print(\"Ordem invertida %s\" % (ordemInvertida));\n",
        "\n",
        "    fraseMaiuscula = entrada.upper();\n",
        "    print(\"Frase maiúscula: %s\" % (fraseMaiuscula));\n",
        "\n",
        "    fraseMinuscula = entrada.lower();\n",
        "    print(\"Frase minuscula: %s\" % (fraseMinuscula));\n",
        "\n",
        "    print(\"Tupla formada: %s\" % (tuple(entrada)));\n",
        "\n",
        "solicitarFrase();"
      ]
    },
    {
      "cell_type": "code",
      "source": [
        "# prompt: Desenvolver um programa em Python que receba uma frase inserida pelo usuário e realize diversas operações de análise e formatação, demonstrando os conceitos vistos em aula.\n",
        "# Requisitos:\n",
        "# 1. Entrada do Usuário:\n",
        "#    - Solicitar ao usuário que insira uma frase.\n",
        "#    - Verificar se a entrada não está vazia e tratar o erro caso necessário. (crie uma nova função no bloco de funções)\n",
        "# 2. Análise da Frase:\n",
        "#    - Contagem de Caracteres: Calcular o número total de caracteres da frase (incluindo espaços).\n",
        "#    - Contagem de Palavras: Dividir a frase em palavras (utilizando o método `split()`) e determinar quantas palavras existem.\n",
        "#    - Maior Palavra: Identificar a palavra com o maior número de caracteres dentre as encontradas.\n",
        "# 3. Manipulação e Formatação:\n",
        "#    - Inversão da Frase:\n",
        "#      - Inverter a frase por meio dos caracteres (utilizando slicing com `[::-1]`);\n",
        "#      - Inverter a ordem das palavras e reconstruir a frase.\n",
        "#    - Alteração de Caixa: Converter a frase para todas as letras maiúsculas e para todas as letras minúsculas.\n",
        "#    - Tupla de Palavras: Criar uma tupla contendo todas as palavras da frase.\n",
        "# 4. Saída Formatada:\n",
        "#   - Utilizar f-strings para exibir os resultados de forma organizada, apresentando as seguintes informações:\n",
        "#      - Número de caracteres da frase.\n",
        "#      - Número de palavras.\n",
        "#      - A palavra com maior comprimento.\n",
        "#      - A frase invertida (por caracteres e por palavras).\n",
        "#      - A frase em maiúsculas e minúsculas.\n",
        "#      - A tupla formada pelas palavras da frase.\n",
        "\n",
        "def solicitar_frase():\n",
        "  while True:\n",
        "    entrada = input(\"Insira uma frase: \")\n",
        "    if entrada:\n",
        "      break\n",
        "    else:\n",
        "      print(\"Erro! A entrada não pode estar vazia.\")\n",
        "  return entrada\n",
        "\n",
        "def analisar_frase(frase):\n",
        "  num_caracteres = len(frase)\n",
        "  palavras = frase.split()\n",
        "  num_palavras = len(palavras)\n",
        "  maior_palavra = max(palavras, key=len) if palavras else \"\"\n",
        "  return num_caracteres, num_palavras, maior_palavra\n",
        "\n",
        "\n",
        "def manipular_frase(frase):\n",
        "  frase_invertida_carac = frase[::-1]\n",
        "  frase_invertida_palavras = \" \".join(frase.split()[::-1])\n",
        "  frase_maiuscula = frase.upper()\n",
        "  frase_minuscula = frase.lower()\n",
        "  tupla_palavras = tuple(frase.split())\n",
        "  return frase_invertida_carac, frase_invertida_palavras, frase_maiuscula, frase_minuscula, tupla_palavras\n",
        "\n",
        "\n",
        "frase = solicitar_frase()\n",
        "num_caracteres, num_palavras, maior_palavra = analisar_frase(frase)\n",
        "frase_invertida_carac, frase_invertida_palavras, frase_maiuscula, frase_minuscula, tupla_palavras = manipular_frase(frase)\n",
        "\n",
        "\n",
        "print(f\"Número de caracteres: {num_caracteres}\")\n",
        "print(f\"Número de palavras: {num_palavras}\")\n",
        "print(f\"Maior palavra: {maior_palavra}\")\n",
        "print(f\"Frase invertida (caracteres): {frase_invertida_carac}\")\n",
        "print(f\"Frase invertida (palavras): {frase_invertida_palavras}\")\n",
        "print(f\"Frase em maiúsculas: {frase_maiuscula}\")\n",
        "print(f\"Frase em minúsculas: {frase_minuscula}\")\n",
        "print(f\"Tupla de palavras: {tupla_palavras}\")\n"
      ],
      "metadata": {
        "id": "bLgN_QY6ywjL"
      },
      "execution_count": null,
      "outputs": []
    }
  ]
}